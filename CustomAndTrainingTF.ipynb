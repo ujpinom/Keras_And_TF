{
  "nbformat": 4,
  "nbformat_minor": 0,
  "metadata": {
    "colab": {
      "name": "CustomAndTrainingTF.ipynb",
      "provenance": []
    },
    "kernelspec": {
      "name": "python3",
      "display_name": "Python 3"
    },
    "language_info": {
      "name": "python"
    }
  },
  "cells": [
    {
      "cell_type": "code",
      "metadata": {
        "id": "ADYeO2OpfVOw"
      },
      "source": [
        "import tensorflow as tf;import tensorflow.keras as keras;import numpy as np"
      ],
      "execution_count": 1,
      "outputs": []
    },
    {
      "cell_type": "code",
      "metadata": {
        "id": "7o1i1dfCf5Fb"
      },
      "source": [
        "t=tf.constant([[1,2,3],[4,5,6]])"
      ],
      "execution_count": 2,
      "outputs": []
    },
    {
      "cell_type": "code",
      "metadata": {
        "colab": {
          "base_uri": "https://localhost:8080/"
        },
        "id": "i891p3Uinmnd",
        "outputId": "06886d4f-b254-49e8-9abf-f6f4f20508d3"
      },
      "source": [
        "t[:,1][:,np.newaxis]"
      ],
      "execution_count": 3,
      "outputs": [
        {
          "output_type": "execute_result",
          "data": {
            "text/plain": [
              "<tf.Tensor: shape=(2, 1), dtype=int32, numpy=\n",
              "array([[2],\n",
              "       [5]], dtype=int32)>"
            ]
          },
          "metadata": {
            "tags": []
          },
          "execution_count": 3
        }
      ]
    },
    {
      "cell_type": "markdown",
      "metadata": {
        "id": "KZezByuQcwL5"
      },
      "source": [
        "# Customizing Models and Training Algorithms"
      ]
    },
    {
      "cell_type": "markdown",
      "metadata": {
        "id": "hdMT2G5lOrim"
      },
      "source": [
        "### Custom Loss Functions "
      ]
    },
    {
      "cell_type": "code",
      "metadata": {
        "id": "00BK2wLCOxdt"
      },
      "source": [
        "def huber_loss(y_label,y_pred):\n",
        "  error=y_label-y_pred\n",
        "  is_small_erro= tf.abs(error)<1\n",
        "  squared_loss= tf.square(error)/2\n",
        "  linear_loss= tf.abs(error)-0.5\n",
        "  return tf.where(is_small_erro,squared_loss,linear_loss)\n",
        "  "
      ],
      "execution_count": 4,
      "outputs": []
    },
    {
      "cell_type": "code",
      "metadata": {
        "colab": {
          "base_uri": "https://localhost:8080/"
        },
        "id": "pLbWSYNLQ827",
        "outputId": "dd426d8b-2912-42e1-a822-599a312d9fe3"
      },
      "source": [
        "from sklearn.datasets import  fetch_california_housing\n",
        "\n",
        "(data,target)= fetch_california_housing(return_X_y=True)\n",
        "\n"
      ],
      "execution_count": 5,
      "outputs": [
        {
          "output_type": "stream",
          "text": [
            "Downloading Cal. housing from https://ndownloader.figshare.com/files/5976036 to /root/scikit_learn_data\n"
          ],
          "name": "stderr"
        }
      ]
    },
    {
      "cell_type": "code",
      "metadata": {
        "id": "nNrnfuMsW2Km"
      },
      "source": [
        "from sklearn.model_selection import train_test_split;import numpy as np;from sklearn.preprocessing import StandardScaler\n",
        "X_train_full,X_test,y_train_full,y_test= train_test_split(data,target[:,np.newaxis],random_state=42)\n",
        "\n",
        "X_train, X_valid, y_train, y_valid = train_test_split(\n",
        "    X_train_full, y_train_full, random_state=42)\n",
        "\n",
        "scaler = StandardScaler()\n",
        "X_train_scaled = scaler.fit_transform(X_train)\n",
        "X_valid_scaled = scaler.transform(X_valid)\n",
        "X_test_scaled = scaler.transform(X_test)\n",
        "\n"
      ],
      "execution_count": 7,
      "outputs": []
    },
    {
      "cell_type": "code",
      "metadata": {
        "id": "EMSPukdBW1X3"
      },
      "source": [
        "class HuberLoss(keras.losses.Loss):\n",
        "\n",
        "    def __init__(self,threshold=1,**kwargs):\n",
        "        self.threshold=threshold\n",
        "        super().__init__(**kwargs)\n",
        "\n",
        "    def call(self, y_true, y_pred):\n",
        "        error=y_true-y_pred\n",
        "        is_small_error= tf.abs(error)<self.threshold\n",
        "        squared_loss = tf.square(error) / 2\n",
        "        linear_loss = self.threshold * tf.abs(error) - self.threshold ** 2 / 2\n",
        "        return tf.where(is_small_error, squared_loss, linear_loss)\n",
        "\n",
        "    def get_config(self):\n",
        "        base_config= super().get_config()\n",
        "        return {**base_config,\"threshold\":self.threshold}"
      ],
      "execution_count": 8,
      "outputs": []
    },
    {
      "cell_type": "code",
      "metadata": {
        "id": "1PsgxdA2eQbw"
      },
      "source": [
        "modelo= keras.models.Sequential([keras.layers.Dense(30,activation='selu',kernel_initializer='lecun_normal',input_shape=X_train.shape[1:]),\n",
        "                                 keras.layers.Dense(1)])"
      ],
      "execution_count": 16,
      "outputs": []
    },
    {
      "cell_type": "code",
      "metadata": {
        "id": "XJufOiJOfNcu"
      },
      "source": [
        "modelo.compile(optimizer='nadam',loss=keras.losses.mean_squared_error,metrics=['mae'])"
      ],
      "execution_count": 17,
      "outputs": []
    },
    {
      "cell_type": "code",
      "metadata": {
        "colab": {
          "base_uri": "https://localhost:8080/"
        },
        "id": "uJ4vGORXfhT8",
        "outputId": "a5a2f365-f143-4737-bf0f-b787b3f7bf18"
      },
      "source": [
        "modelo.fit(x=X_train,y=y_train,validation_data=(X_valid,y_valid),epochs=50)"
      ],
      "execution_count": 18,
      "outputs": [
        {
          "output_type": "stream",
          "text": [
            "Epoch 1/50\n",
            "363/363 [==============================] - 1s 2ms/step - loss: 24762.7598 - mae: 50.6359 - val_loss: 304.5815 - val_mae: 3.3856\n",
            "Epoch 2/50\n",
            "363/363 [==============================] - 1s 2ms/step - loss: 14.4230 - mae: 2.5995 - val_loss: 260.9261 - val_mae: 2.7610\n",
            "Epoch 3/50\n",
            "363/363 [==============================] - 1s 2ms/step - loss: 11.1747 - mae: 2.2288 - val_loss: 227.3809 - val_mae: 2.4548\n",
            "Epoch 4/50\n",
            "363/363 [==============================] - 1s 2ms/step - loss: 9.1452 - mae: 1.9925 - val_loss: 194.3756 - val_mae: 2.1403\n",
            "Epoch 5/50\n",
            "363/363 [==============================] - 1s 2ms/step - loss: 7.3678 - mae: 1.7567 - val_loss: 163.1570 - val_mae: 1.9363\n",
            "Epoch 6/50\n",
            "363/363 [==============================] - 1s 2ms/step - loss: 5.8638 - mae: 1.5419 - val_loss: 134.8964 - val_mae: 1.6872\n",
            "Epoch 7/50\n",
            "363/363 [==============================] - 1s 2ms/step - loss: 4.7268 - mae: 1.3767 - val_loss: 105.8088 - val_mae: 1.4887\n",
            "Epoch 8/50\n",
            "363/363 [==============================] - 1s 2ms/step - loss: 3.6882 - mae: 1.1936 - val_loss: 81.6060 - val_mae: 1.2722\n",
            "Epoch 9/50\n",
            "363/363 [==============================] - 1s 1ms/step - loss: 2.8514 - mae: 1.0371 - val_loss: 63.0881 - val_mae: 1.5403\n",
            "Epoch 10/50\n",
            "363/363 [==============================] - 1s 2ms/step - loss: 2.2977 - mae: 0.9413 - val_loss: 41.8711 - val_mae: 0.9896\n",
            "Epoch 11/50\n",
            "363/363 [==============================] - 1s 2ms/step - loss: 1.8286 - mae: 0.8380 - val_loss: 28.5050 - val_mae: 0.8647\n",
            "Epoch 12/50\n",
            "363/363 [==============================] - 1s 2ms/step - loss: 1.5634 - mae: 0.7855 - val_loss: 17.4440 - val_mae: 0.8108\n",
            "Epoch 13/50\n",
            "363/363 [==============================] - 1s 2ms/step - loss: 1.3156 - mae: 0.7510 - val_loss: 10.2504 - val_mae: 0.7541\n",
            "Epoch 14/50\n",
            "363/363 [==============================] - 1s 2ms/step - loss: 1.1220 - mae: 0.7287 - val_loss: 5.4559 - val_mae: 0.7210\n",
            "Epoch 15/50\n",
            "363/363 [==============================] - 1s 2ms/step - loss: 1.0500 - mae: 0.7145 - val_loss: 2.6589 - val_mae: 0.7723\n",
            "Epoch 16/50\n",
            "363/363 [==============================] - 1s 2ms/step - loss: 1.0137 - mae: 0.7265 - val_loss: 1.6116 - val_mae: 0.7876\n",
            "Epoch 17/50\n",
            "363/363 [==============================] - 1s 2ms/step - loss: 1.1932 - mae: 0.7733 - val_loss: 0.8425 - val_mae: 0.6205\n",
            "Epoch 18/50\n",
            "363/363 [==============================] - 1s 2ms/step - loss: 2.1047 - mae: 0.8335 - val_loss: 1.4321 - val_mae: 0.9175\n",
            "Epoch 19/50\n",
            "363/363 [==============================] - 1s 2ms/step - loss: 4.8192 - mae: 0.9401 - val_loss: 0.8233 - val_mae: 0.6509\n",
            "Epoch 20/50\n",
            "363/363 [==============================] - 1s 2ms/step - loss: 2.7315 - mae: 0.8596 - val_loss: 0.9108 - val_mae: 0.6779\n",
            "Epoch 21/50\n",
            "363/363 [==============================] - 1s 2ms/step - loss: 1.1936 - mae: 0.7862 - val_loss: 0.6956 - val_mae: 0.6023\n",
            "Epoch 22/50\n",
            "363/363 [==============================] - 1s 2ms/step - loss: 6.2039 - mae: 1.1752 - val_loss: 1.0350 - val_mae: 0.6750\n",
            "Epoch 23/50\n",
            "363/363 [==============================] - 1s 2ms/step - loss: 1.8001 - mae: 0.8971 - val_loss: 0.7403 - val_mae: 0.6181\n",
            "Epoch 24/50\n",
            "363/363 [==============================] - 1s 2ms/step - loss: 5.4268 - mae: 1.1687 - val_loss: 3.4234 - val_mae: 0.6828\n",
            "Epoch 25/50\n",
            "363/363 [==============================] - 1s 2ms/step - loss: 11.7637 - mae: 1.0580 - val_loss: 0.8907 - val_mae: 0.6106\n",
            "Epoch 26/50\n",
            "363/363 [==============================] - 1s 2ms/step - loss: 1.3210 - mae: 0.7532 - val_loss: 1.0229 - val_mae: 0.5867\n",
            "Epoch 27/50\n",
            "363/363 [==============================] - 1s 2ms/step - loss: 2.5770 - mae: 0.9157 - val_loss: 1.1129 - val_mae: 0.5880\n",
            "Epoch 28/50\n",
            "363/363 [==============================] - 1s 2ms/step - loss: 5.0065 - mae: 1.0858 - val_loss: 0.9441 - val_mae: 0.6778\n",
            "Epoch 29/50\n",
            "363/363 [==============================] - 1s 2ms/step - loss: 5.8720 - mae: 1.0414 - val_loss: 0.7663 - val_mae: 0.5793\n",
            "Epoch 30/50\n",
            "363/363 [==============================] - 1s 2ms/step - loss: 12.7471 - mae: 1.1413 - val_loss: 0.8732 - val_mae: 0.6014\n",
            "Epoch 31/50\n",
            "363/363 [==============================] - 1s 2ms/step - loss: 0.7627 - mae: 0.6485 - val_loss: 1.7443 - val_mae: 0.9713\n",
            "Epoch 32/50\n",
            "363/363 [==============================] - 1s 2ms/step - loss: 1.9779 - mae: 0.8109 - val_loss: 3.0924 - val_mae: 1.3555\n",
            "Epoch 33/50\n",
            "363/363 [==============================] - 1s 2ms/step - loss: 2.9294 - mae: 0.9259 - val_loss: 3.1453 - val_mae: 0.6390\n",
            "Epoch 34/50\n",
            "363/363 [==============================] - 1s 2ms/step - loss: 4.6080 - mae: 0.9731 - val_loss: 0.8596 - val_mae: 0.6106\n",
            "Epoch 35/50\n",
            "363/363 [==============================] - 1s 2ms/step - loss: 2.0540 - mae: 0.8660 - val_loss: 3.4078 - val_mae: 1.0254\n",
            "Epoch 36/50\n",
            "363/363 [==============================] - 1s 2ms/step - loss: 4.7452 - mae: 0.8973 - val_loss: 3.8168 - val_mae: 0.6174\n",
            "Epoch 37/50\n",
            "363/363 [==============================] - 1s 2ms/step - loss: 2.6223 - mae: 0.9442 - val_loss: 1.0841 - val_mae: 0.6129\n",
            "Epoch 38/50\n",
            "363/363 [==============================] - 1s 2ms/step - loss: 7.8457 - mae: 1.0935 - val_loss: 8.3176 - val_mae: 1.9648\n",
            "Epoch 39/50\n",
            "363/363 [==============================] - 1s 2ms/step - loss: 0.7670 - mae: 0.6533 - val_loss: 0.9648 - val_mae: 0.5721\n",
            "Epoch 40/50\n",
            "363/363 [==============================] - 1s 2ms/step - loss: 2.1073 - mae: 0.8208 - val_loss: 2.2420 - val_mae: 0.6038\n",
            "Epoch 41/50\n",
            "363/363 [==============================] - 1s 2ms/step - loss: 2.7965 - mae: 0.9714 - val_loss: 1.0137 - val_mae: 0.5627\n",
            "Epoch 42/50\n",
            "363/363 [==============================] - 1s 2ms/step - loss: 2.8891 - mae: 0.9919 - val_loss: 0.6700 - val_mae: 0.5618\n",
            "Epoch 43/50\n",
            "363/363 [==============================] - 1s 2ms/step - loss: 6.0854 - mae: 1.1445 - val_loss: 1.0010 - val_mae: 0.6014\n",
            "Epoch 44/50\n",
            "363/363 [==============================] - 1s 2ms/step - loss: 2.7149 - mae: 0.8450 - val_loss: 7.2042 - val_mae: 0.6941\n",
            "Epoch 45/50\n",
            "363/363 [==============================] - 1s 2ms/step - loss: 2.2205 - mae: 0.8617 - val_loss: 6.5402 - val_mae: 1.4734\n",
            "Epoch 46/50\n",
            "363/363 [==============================] - 1s 2ms/step - loss: 9.5292 - mae: 1.1245 - val_loss: 0.8061 - val_mae: 0.6205\n",
            "Epoch 47/50\n",
            "363/363 [==============================] - 1s 1ms/step - loss: 0.7058 - mae: 0.6192 - val_loss: 4.2293 - val_mae: 0.6330\n",
            "Epoch 48/50\n",
            "363/363 [==============================] - 1s 2ms/step - loss: 0.8647 - mae: 0.6702 - val_loss: 2.0030 - val_mae: 0.7712\n",
            "Epoch 49/50\n",
            "363/363 [==============================] - 1s 2ms/step - loss: 2.0981 - mae: 0.8238 - val_loss: 1.5262 - val_mae: 0.6536\n",
            "Epoch 50/50\n",
            "363/363 [==============================] - 1s 2ms/step - loss: 5.0417 - mae: 0.9344 - val_loss: 5.5248 - val_mae: 0.7195\n"
          ],
          "name": "stdout"
        },
        {
          "output_type": "execute_result",
          "data": {
            "text/plain": [
              "<tensorflow.python.keras.callbacks.History at 0x7f8051112b90>"
            ]
          },
          "metadata": {
            "tags": []
          },
          "execution_count": 18
        }
      ]
    },
    {
      "cell_type": "markdown",
      "metadata": {
        "id": "eeshQsqllpP8"
      },
      "source": [
        "### Custom Layers"
      ]
    },
    {
      "cell_type": "code",
      "metadata": {
        "id": "d-fJ6Q2AloP5"
      },
      "source": [
        ""
      ],
      "execution_count": null,
      "outputs": []
    }
  ]
}