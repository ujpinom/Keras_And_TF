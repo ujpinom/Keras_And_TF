{
 "cells": [
  {
   "cell_type": "markdown",
   "metadata": {},
   "source": [
    "# Trying to get more than 98% of precission on MNIST data set"
   ]
  },
  {
   "cell_type": "code",
   "execution_count": 1,
   "metadata": {},
   "outputs": [
    {
     "name": "stderr",
     "output_type": "stream",
     "text": [
      "C:\\Users\\SONY\\miniconda3\\lib\\site-packages\\numpy\\_distributor_init.py:30: UserWarning: loaded more than 1 DLL from .libs:\n",
      "C:\\Users\\SONY\\miniconda3\\lib\\site-packages\\numpy\\.libs\\libopenblas.NOIJJG62EMASZI6NYURL6JBKM4EVBGM7.gfortran-win_amd64.dll\n",
      "C:\\Users\\SONY\\miniconda3\\lib\\site-packages\\numpy\\.libs\\libopenblas.WCDJNK7YVMPZQ2ME2ZZHJJRJ3JIKNDB7.gfortran-win_amd64.dll\n",
      "  warnings.warn(\"loaded more than 1 DLL from .libs:\"\n"
     ]
    }
   ],
   "source": [
    "import tensorflow as tf;import tensorflow.keras as keras;import numpy as np;\n",
    "np.random.seed(42)"
   ]
  },
  {
   "cell_type": "code",
   "execution_count": 2,
   "metadata": {},
   "outputs": [],
   "source": [
    "(x_train, y_train), (x_test, y_test)=keras.datasets.mnist.load_data()"
   ]
  },
  {
   "cell_type": "code",
   "execution_count": 3,
   "metadata": {},
   "outputs": [],
   "source": [
    "x_test1=x_test.reshape(10000,28*28)"
   ]
  },
  {
   "cell_type": "code",
   "execution_count": 4,
   "metadata": {},
   "outputs": [],
   "source": [
    "x_train=x_train.reshape(x_train.shape[0],x_train.shape[1]*x_train.shape[1])"
   ]
  },
  {
   "cell_type": "code",
   "execution_count": 5,
   "metadata": {},
   "outputs": [],
   "source": [
    "x_vali,y_vali=x_train[:5000]/255.,y_train[:5000]\n",
    "x_train,y_train=x_train[5000:]/255.,y_train[5000:]"
   ]
  },
  {
   "cell_type": "code",
   "execution_count": 6,
   "metadata": {},
   "outputs": [],
   "source": [
    "\n",
    "keras.backend.clear_session()\n",
    "np.random.seed(42)\n",
    "tf.random.set_seed(42)"
   ]
  },
  {
   "cell_type": "code",
   "execution_count": 26,
   "metadata": {},
   "outputs": [],
   "source": [
    "modelo=keras.models.Sequential([\n",
    "    keras.layers.Dense(300,activation='elu',input_shape=x_train.shape[1:],kernel_initializer=\"he_normal\"),\n",
    "    keras.layers.Dense(100,activation='elu',kernel_initializer=\"he_normal\"), \n",
    "     \n",
    "                               keras.layers.Dense(10,activation='softmax')])"
   ]
  },
  {
   "cell_type": "code",
   "execution_count": 27,
   "metadata": {},
   "outputs": [],
   "source": [
    "modelo.compile(loss='sparse_categorical_crossentropy',optimizer=keras.optimizers.SGD(lr=0.3),metrics=['accuracy'])"
   ]
  },
  {
   "cell_type": "code",
   "execution_count": 28,
   "metadata": {},
   "outputs": [
    {
     "name": "stdout",
     "output_type": "stream",
     "text": [
      "Epoch 1/20\n",
      "   1/1719 [..............................] - ETA: 0s - loss: 2.4776 - accuracy: 0.0938WARNING:tensorflow:Callbacks method `on_train_batch_end` is slow compared to the batch time (batch time: 0.0000s vs `on_train_batch_end` time: 0.0113s). Check your callbacks.\n",
      "1719/1719 [==============================] - 5s 3ms/step - loss: 0.2888 - accuracy: 0.9175 - val_loss: 0.1215 - val_accuracy: 0.9644\n",
      "Epoch 2/20\n",
      "1719/1719 [==============================] - 5s 3ms/step - loss: 0.1158 - accuracy: 0.9650 - val_loss: 0.1157 - val_accuracy: 0.9664\n",
      "Epoch 3/20\n",
      "1719/1719 [==============================] - 5s 3ms/step - loss: 0.0877 - accuracy: 0.9730 - val_loss: 0.0755 - val_accuracy: 0.9808\n",
      "Epoch 4/20\n",
      "1719/1719 [==============================] - 5s 3ms/step - loss: 0.0685 - accuracy: 0.9783 - val_loss: 0.0877 - val_accuracy: 0.9796\n",
      "Epoch 5/20\n",
      "1719/1719 [==============================] - 4s 3ms/step - loss: 0.0598 - accuracy: 0.9813 - val_loss: 0.1009 - val_accuracy: 0.9784\n",
      "Epoch 6/20\n",
      "1719/1719 [==============================] - 4s 2ms/step - loss: 0.0482 - accuracy: 0.9845 - val_loss: 0.0863 - val_accuracy: 0.9794\n",
      "Epoch 7/20\n",
      "1719/1719 [==============================] - 4s 3ms/step - loss: 0.0397 - accuracy: 0.9871 - val_loss: 0.1022 - val_accuracy: 0.9766\n",
      "Epoch 8/20\n",
      "1719/1719 [==============================] - 5s 3ms/step - loss: 0.0369 - accuracy: 0.9884 - val_loss: 0.1135 - val_accuracy: 0.9732\n",
      "Epoch 9/20\n",
      "1719/1719 [==============================] - 5s 3ms/step - loss: 0.0320 - accuracy: 0.9899 - val_loss: 0.1149 - val_accuracy: 0.9786\n",
      "Epoch 10/20\n",
      "1719/1719 [==============================] - 5s 3ms/step - loss: 0.0324 - accuracy: 0.9901 - val_loss: 0.1397 - val_accuracy: 0.9742\n",
      "Epoch 11/20\n",
      "1719/1719 [==============================] - 6s 3ms/step - loss: 0.0322 - accuracy: 0.9903 - val_loss: 0.1359 - val_accuracy: 0.9742\n",
      "Epoch 12/20\n",
      "1719/1719 [==============================] - 6s 3ms/step - loss: 0.0252 - accuracy: 0.9927 - val_loss: 0.1415 - val_accuracy: 0.9748\n",
      "Epoch 13/20\n",
      "1719/1719 [==============================] - 6s 3ms/step - loss: 0.0211 - accuracy: 0.9931 - val_loss: 0.1363 - val_accuracy: 0.9778\n",
      "Epoch 14/20\n",
      "1719/1719 [==============================] - 6s 3ms/step - loss: 0.0268 - accuracy: 0.9922 - val_loss: 0.1472 - val_accuracy: 0.9780\n",
      "Epoch 15/20\n",
      "1719/1719 [==============================] - 6s 4ms/step - loss: 0.0207 - accuracy: 0.9940 - val_loss: 0.1311 - val_accuracy: 0.9778\n",
      "Epoch 16/20\n",
      "1719/1719 [==============================] - 6s 3ms/step - loss: 0.0235 - accuracy: 0.9932 - val_loss: 0.1229 - val_accuracy: 0.9806\n",
      "Epoch 17/20\n",
      "1719/1719 [==============================] - 6s 3ms/step - loss: 0.0260 - accuracy: 0.9929 - val_loss: 0.1272 - val_accuracy: 0.9806\n",
      "Epoch 18/20\n",
      "1719/1719 [==============================] - 6s 3ms/step - loss: 0.0319 - accuracy: 0.9915 - val_loss: 0.1791 - val_accuracy: 0.9774\n",
      "Epoch 19/20\n",
      "1719/1719 [==============================] - 6s 3ms/step - loss: 0.0290 - accuracy: 0.9923 - val_loss: 0.1699 - val_accuracy: 0.9740\n",
      "Epoch 20/20\n",
      "1719/1719 [==============================] - 6s 3ms/step - loss: 0.0292 - accuracy: 0.9920 - val_loss: 0.2157 - val_accuracy: 0.9744\n"
     ]
    }
   ],
   "source": [
    "history= modelo.fit(x=x_train,y=y_train,validation_data=(x_vali,y_vali),epochs=20)"
   ]
  },
  {
   "cell_type": "code",
   "execution_count": 29,
   "metadata": {},
   "outputs": [
    {
     "name": "stdout",
     "output_type": "stream",
     "text": [
      "313/313 [==============================] - 1s 2ms/step - loss: 0.1803 - accuracy: 0.9739\n"
     ]
    },
    {
     "data": {
      "text/plain": [
       "[0.1802893429994583, 0.9739000201225281]"
      ]
     },
     "execution_count": 29,
     "metadata": {},
     "output_type": "execute_result"
    }
   ],
   "source": [
    "modelo.evaluate(x_test1/255.,y_test)"
   ]
  },
  {
   "cell_type": "markdown",
   "metadata": {},
   "source": [
    "### Con dos capas escondidas, cada una con 300 y 100 neuronas respectivamente y con un learning rate de 0.3 se obtiene una precisión sobre el conjunto de datos de testeo de 98,07% "
   ]
  }
 ],
 "metadata": {
  "kernelspec": {
   "display_name": "Python 3",
   "language": "python",
   "name": "python3"
  },
  "language_info": {
   "codemirror_mode": {
    "name": "ipython",
    "version": 3
   },
   "file_extension": ".py",
   "mimetype": "text/x-python",
   "name": "python",
   "nbconvert_exporter": "python",
   "pygments_lexer": "ipython3",
   "version": "3.8.5"
  }
 },
 "nbformat": 4,
 "nbformat_minor": 4
}
