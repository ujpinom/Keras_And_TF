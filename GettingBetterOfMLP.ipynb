{
 "cells": [
  {
   "cell_type": "markdown",
   "metadata": {},
   "source": [
    "# Trying to get more than 98% of precission on MNIST data set"
   ]
  },
  {
   "cell_type": "code",
   "execution_count": 1,
   "metadata": {},
   "outputs": [
    {
     "name": "stderr",
     "output_type": "stream",
     "text": [
      "C:\\Users\\SONY\\miniconda3\\lib\\site-packages\\numpy\\_distributor_init.py:30: UserWarning: loaded more than 1 DLL from .libs:\n",
      "C:\\Users\\SONY\\miniconda3\\lib\\site-packages\\numpy\\.libs\\libopenblas.NOIJJG62EMASZI6NYURL6JBKM4EVBGM7.gfortran-win_amd64.dll\n",
      "C:\\Users\\SONY\\miniconda3\\lib\\site-packages\\numpy\\.libs\\libopenblas.WCDJNK7YVMPZQ2ME2ZZHJJRJ3JIKNDB7.gfortran-win_amd64.dll\n",
      "  warnings.warn(\"loaded more than 1 DLL from .libs:\"\n"
     ]
    }
   ],
   "source": [
    "import tensorflow as tf;import tensorflow.keras as keras;import numpy as np;\n",
    "np.random.seed(42)"
   ]
  },
  {
   "cell_type": "code",
   "execution_count": 2,
   "metadata": {},
   "outputs": [],
   "source": [
    "(x_train, y_train), (x_test, y_test)=keras.datasets.mnist.load_data()"
   ]
  },
  {
   "cell_type": "code",
   "execution_count": 3,
   "metadata": {},
   "outputs": [],
   "source": [
    "x_test1=x_test.reshape(10000,28*28)"
   ]
  },
  {
   "cell_type": "code",
   "execution_count": 4,
   "metadata": {},
   "outputs": [],
   "source": [
    "x_train=x_train.reshape(x_train.shape[0],x_train.shape[1]*x_train.shape[1])"
   ]
  },
  {
   "cell_type": "code",
   "execution_count": 5,
   "metadata": {},
   "outputs": [],
   "source": [
    "x_vali,y_vali=x_train[:5000]/255.,y_train[:5000]\n",
    "x_train,y_train=x_train[5000:]/255.,y_train[5000:]"
   ]
  },
  {
   "cell_type": "code",
   "execution_count": 6,
   "metadata": {},
   "outputs": [],
   "source": [
    "\n",
    "keras.backend.clear_session()\n",
    "np.random.seed(42)\n",
    "tf.random.set_seed(42)"
   ]
  },
  {
   "cell_type": "code",
   "execution_count": 7,
   "metadata": {},
   "outputs": [],
   "source": [
    "modelo=keras.models.Sequential([\n",
    "    keras.layers.BatchNormalization(),\n",
    "    keras.layers.Dense(300,activation='elu',input_shape=x_train.shape[1:],kernel_initializer=\"he_normal\"),\n",
    "    keras.layers.BatchNormalization(),\n",
    "    keras.layers.Dense(100,activation='elu',kernel_initializer=\"he_normal\"), keras.layers.BatchNormalization(),\n",
    "     \n",
    "                               keras.layers.Dense(10,activation='softmax')])"
   ]
  },
  {
   "cell_type": "code",
   "execution_count": 8,
   "metadata": {},
   "outputs": [],
   "source": [
    "modelo.compile(loss='sparse_categorical_crossentropy',optimizer=keras.optimizers.SGD(lr=0.3),metrics=['accuracy'])"
   ]
  },
  {
   "cell_type": "code",
   "execution_count": 9,
   "metadata": {},
   "outputs": [
    {
     "name": "stdout",
     "output_type": "stream",
     "text": [
      "Epoch 1/20\n",
      "1719/1719 [==============================] - 8s 5ms/step - loss: 0.2380 - accuracy: 0.9264 - val_loss: 0.1285 - val_accuracy: 0.9610\n",
      "Epoch 2/20\n",
      "1719/1719 [==============================] - 8s 5ms/step - loss: 0.1214 - accuracy: 0.9616 - val_loss: 0.1045 - val_accuracy: 0.9702\n",
      "Epoch 3/20\n",
      "1719/1719 [==============================] - 8s 5ms/step - loss: 0.0875 - accuracy: 0.9723 - val_loss: 0.0900 - val_accuracy: 0.9748\n",
      "Epoch 4/20\n",
      "1719/1719 [==============================] - 8s 5ms/step - loss: 0.0685 - accuracy: 0.9777 - val_loss: 0.0914 - val_accuracy: 0.9734\n",
      "Epoch 5/20\n",
      "1719/1719 [==============================] - 8s 5ms/step - loss: 0.0559 - accuracy: 0.9816 - val_loss: 0.0919 - val_accuracy: 0.9736\n",
      "Epoch 6/20\n",
      "1719/1719 [==============================] - 8s 5ms/step - loss: 0.0510 - accuracy: 0.9825 - val_loss: 0.0849 - val_accuracy: 0.9774\n",
      "Epoch 7/20\n",
      "1719/1719 [==============================] - 10s 6ms/step - loss: 0.0411 - accuracy: 0.9866 - val_loss: 0.0924 - val_accuracy: 0.9756\n",
      "Epoch 8/20\n",
      "1719/1719 [==============================] - 10s 6ms/step - loss: 0.0363 - accuracy: 0.9875 - val_loss: 0.0805 - val_accuracy: 0.9774\n",
      "Epoch 9/20\n",
      "1719/1719 [==============================] - 11s 6ms/step - loss: 0.0341 - accuracy: 0.9881 - val_loss: 0.0903 - val_accuracy: 0.9796\n",
      "Epoch 10/20\n",
      "1719/1719 [==============================] - 10s 6ms/step - loss: 0.0309 - accuracy: 0.9894 - val_loss: 0.0806 - val_accuracy: 0.9788\n",
      "Epoch 11/20\n",
      "1719/1719 [==============================] - 9s 5ms/step - loss: 0.0255 - accuracy: 0.9915 - val_loss: 0.0870 - val_accuracy: 0.9774\n",
      "Epoch 12/20\n",
      "1719/1719 [==============================] - 9s 5ms/step - loss: 0.0238 - accuracy: 0.9919 - val_loss: 0.0922 - val_accuracy: 0.9784\n",
      "Epoch 13/20\n",
      "1719/1719 [==============================] - 9s 5ms/step - loss: 0.0214 - accuracy: 0.9925 - val_loss: 0.0879 - val_accuracy: 0.9774\n",
      "Epoch 14/20\n",
      "1719/1719 [==============================] - 9s 5ms/step - loss: 0.0210 - accuracy: 0.9928 - val_loss: 0.0796 - val_accuracy: 0.9818\n",
      "Epoch 15/20\n",
      "1719/1719 [==============================] - 11s 6ms/step - loss: 0.0190 - accuracy: 0.9940 - val_loss: 0.0796 - val_accuracy: 0.9828\n",
      "Epoch 16/20\n",
      "1719/1719 [==============================] - 11s 7ms/step - loss: 0.0151 - accuracy: 0.9945 - val_loss: 0.0879 - val_accuracy: 0.9818\n",
      "Epoch 17/20\n",
      "1719/1719 [==============================] - 11s 7ms/step - loss: 0.0154 - accuracy: 0.9948 - val_loss: 0.0802 - val_accuracy: 0.9830\n",
      "Epoch 18/20\n",
      "1719/1719 [==============================] - 10s 6ms/step - loss: 0.0178 - accuracy: 0.9940 - val_loss: 0.0980 - val_accuracy: 0.9800\n",
      "Epoch 19/20\n",
      "1719/1719 [==============================] - 9s 5ms/step - loss: 0.0147 - accuracy: 0.9949 - val_loss: 0.0951 - val_accuracy: 0.9816\n",
      "Epoch 20/20\n",
      "1719/1719 [==============================] - 11s 6ms/step - loss: 0.0158 - accuracy: 0.9948 - val_loss: 0.0985 - val_accuracy: 0.9790\n"
     ]
    }
   ],
   "source": [
    "history= modelo.fit(x=x_train,y=y_train,validation_data=(x_vali,y_vali),epochs=20)"
   ]
  },
  {
   "cell_type": "code",
   "execution_count": 10,
   "metadata": {},
   "outputs": [
    {
     "name": "stdout",
     "output_type": "stream",
     "text": [
      "313/313 [==============================] - 1s 2ms/step - loss: 0.0987 - accuracy: 0.9784\n"
     ]
    },
    {
     "data": {
      "text/plain": [
       "[0.09865397214889526, 0.9783999919891357]"
      ]
     },
     "execution_count": 10,
     "metadata": {},
     "output_type": "execute_result"
    }
   ],
   "source": [
    "modelo.evaluate(x_test1/255.,y_test)"
   ]
  },
  {
   "cell_type": "markdown",
   "metadata": {},
   "source": [
    "### Con dos capas escondidas, cada una con 300 y 100 neuronas respectivamente y con un learning rate de 0.3 se obtiene una precisión sobre el conjunto de datos de testeo de 98,07% "
   ]
  }
 ],
 "metadata": {
  "kernelspec": {
   "display_name": "Python 3",
   "language": "python",
   "name": "python3"
  },
  "language_info": {
   "codemirror_mode": {
    "name": "ipython",
    "version": 3
   },
   "file_extension": ".py",
   "mimetype": "text/x-python",
   "name": "python",
   "nbconvert_exporter": "python",
   "pygments_lexer": "ipython3",
   "version": "3.8.5"
  }
 },
 "nbformat": 4,
 "nbformat_minor": 4
}
