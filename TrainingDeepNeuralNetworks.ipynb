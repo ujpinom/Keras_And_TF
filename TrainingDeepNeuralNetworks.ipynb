{
 "cells": [
  {
   "cell_type": "code",
   "execution_count": 1,
   "metadata": {},
   "outputs": [
    {
     "name": "stderr",
     "output_type": "stream",
     "text": [
      "C:\\Users\\SONY\\miniconda3\\lib\\site-packages\\numpy\\_distributor_init.py:30: UserWarning: loaded more than 1 DLL from .libs:\n",
      "C:\\Users\\SONY\\miniconda3\\lib\\site-packages\\numpy\\.libs\\libopenblas.NOIJJG62EMASZI6NYURL6JBKM4EVBGM7.gfortran-win_amd64.dll\n",
      "C:\\Users\\SONY\\miniconda3\\lib\\site-packages\\numpy\\.libs\\libopenblas.WCDJNK7YVMPZQ2ME2ZZHJJRJ3JIKNDB7.gfortran-win_amd64.dll\n",
      "  warnings.warn(\"loaded more than 1 DLL from .libs:\"\n"
     ]
    }
   ],
   "source": [
    "import tensorflow as tf;import tensorflow.keras as keras;import numpy as np\n"
   ]
  },
  {
   "cell_type": "markdown",
   "metadata": {},
   "source": [
    "# Transfer Learning"
   ]
  },
  {
   "cell_type": "code",
   "execution_count": 2,
   "metadata": {},
   "outputs": [],
   "source": [
    "(x_train,y_train),(x_test,y_test)=keras.datasets.fashion_mnist.load_data()\n",
    "\n",
    "x_train_s,x_test_s= x_train/255.,x_test/255.\n",
    "\n",
    "x_vali,y_vali=x_train_s[:5000],y_train[:5000]\n",
    "x_train,y_train=x_train_s[5000:],y_train[5000:]\n",
    "\n"
   ]
  },
  {
   "cell_type": "code",
   "execution_count": 3,
   "metadata": {},
   "outputs": [],
   "source": [
    "def split_dataset(X, y):\n",
    "    y_5_or_6 = (y == 5) | (y == 6) # sandals or shirts\n",
    "    y_A = y[~y_5_or_6]\n",
    "    y_A[y_A > 6] -= 2 # class indices 7, 8, 9 should be moved to 5, 6, 7\n",
    "    y_B = (y[y_5_or_6] == 6).astype(np.float32) # binary classification task: is it a shirt (class 6)?\n",
    "    return ((X[~y_5_or_6], y_A),\n",
    "            (X[y_5_or_6], y_B))"
   ]
  },
  {
   "cell_type": "code",
   "execution_count": 4,
   "metadata": {},
   "outputs": [],
   "source": [
    "(X_train_A, y_train_A), (X_train_B, y_train_B) = split_dataset(x_train, y_train)\n",
    "(X_valid_A, y_valid_A), (X_valid_B, y_valid_B) = split_dataset(x_vali, y_vali)\n",
    "(X_test_A, y_test_A), (X_test_B, y_test_B) = split_dataset(x_test_s, y_test)\n",
    "X_train_B = X_train_B[:200]\n",
    "y_train_B = y_train_B[:200]"
   ]
  },
  {
   "cell_type": "code",
   "execution_count": 5,
   "metadata": {},
   "outputs": [],
   "source": [
    "modeloA=keras.models.Sequential([keras.layers.Flatten(input_shape=[28,28]),\n",
    "                                keras.layers.Dense(200,activation='selu',kernel_initializer=\"lecun_normal\"),\n",
    "                                keras.layers.Dense(100,activation='selu',kernel_initializer=\"lecun_normal\"),\n",
    "                                keras.layers.Dense(50,activation='selu',kernel_initializer=\"lecun_normal\"),\n",
    "                                keras.layers.Dense(8,activation='softmax')])"
   ]
  },
  {
   "cell_type": "code",
   "execution_count": 6,
   "metadata": {},
   "outputs": [],
   "source": [
    "modeloA.compile(loss=\"sparse_categorical_crossentropy\",optimizer=keras.optimizers.SGD(lr=1e-3),metrics=['accuracy'])"
   ]
  },
  {
   "cell_type": "code",
   "execution_count": 7,
   "metadata": {},
   "outputs": [
    {
     "name": "stdout",
     "output_type": "stream",
     "text": [
      "Epoch 1/20\n",
      "1375/1375 [==============================] - 3s 2ms/step - loss: 0.6893 - accuracy: 0.7937 - val_loss: 0.4394 - val_accuracy: 0.8575\n",
      "Epoch 2/20\n",
      "1375/1375 [==============================] - 3s 2ms/step - loss: 0.3998 - accuracy: 0.8683 - val_loss: 0.3665 - val_accuracy: 0.8779\n",
      "Epoch 3/20\n",
      "1375/1375 [==============================] - 3s 2ms/step - loss: 0.3533 - accuracy: 0.8804 - val_loss: 0.3353 - val_accuracy: 0.8891\n",
      "Epoch 4/20\n",
      "1375/1375 [==============================] - 3s 2ms/step - loss: 0.3306 - accuracy: 0.8861 - val_loss: 0.3186 - val_accuracy: 0.8959\n",
      "Epoch 5/20\n",
      "1375/1375 [==============================] - 3s 2ms/step - loss: 0.3153 - accuracy: 0.8923 - val_loss: 0.3074 - val_accuracy: 0.8969\n",
      "Epoch 6/20\n",
      "1375/1375 [==============================] - 3s 2ms/step - loss: 0.3050 - accuracy: 0.8949 - val_loss: 0.2991 - val_accuracy: 0.9016\n",
      "Epoch 7/20\n",
      "1375/1375 [==============================] - 3s 2ms/step - loss: 0.2965 - accuracy: 0.8988 - val_loss: 0.2911 - val_accuracy: 0.9038\n",
      "Epoch 8/20\n",
      "1375/1375 [==============================] - 3s 2ms/step - loss: 0.2896 - accuracy: 0.8999 - val_loss: 0.2850 - val_accuracy: 0.9051\n",
      "Epoch 9/20\n",
      "1375/1375 [==============================] - 3s 2ms/step - loss: 0.2838 - accuracy: 0.9035 - val_loss: 0.2834 - val_accuracy: 0.9028\n",
      "Epoch 10/20\n",
      "1375/1375 [==============================] - 3s 2ms/step - loss: 0.2789 - accuracy: 0.9052 - val_loss: 0.2758 - val_accuracy: 0.9091\n",
      "Epoch 11/20\n",
      "1375/1375 [==============================] - 3s 3ms/step - loss: 0.2740 - accuracy: 0.9072 - val_loss: 0.2761 - val_accuracy: 0.9066\n",
      "Epoch 12/20\n",
      "1375/1375 [==============================] - 4s 3ms/step - loss: 0.2703 - accuracy: 0.9092 - val_loss: 0.2701 - val_accuracy: 0.9108\n",
      "Epoch 13/20\n",
      "1375/1375 [==============================] - 4s 3ms/step - loss: 0.2667 - accuracy: 0.9104 - val_loss: 0.2697 - val_accuracy: 0.9096\n",
      "Epoch 14/20\n",
      "1375/1375 [==============================] - 4s 3ms/step - loss: 0.2633 - accuracy: 0.9114 - val_loss: 0.2644 - val_accuracy: 0.9118\n",
      "Epoch 15/20\n",
      "1375/1375 [==============================] - 4s 3ms/step - loss: 0.2605 - accuracy: 0.9130 - val_loss: 0.2674 - val_accuracy: 0.9091\n",
      "Epoch 16/20\n",
      "1375/1375 [==============================] - 4s 3ms/step - loss: 0.2576 - accuracy: 0.9133 - val_loss: 0.2626 - val_accuracy: 0.9111\n",
      "Epoch 17/20\n",
      "1375/1375 [==============================] - 4s 3ms/step - loss: 0.2551 - accuracy: 0.9144 - val_loss: 0.2585 - val_accuracy: 0.9116\n",
      "Epoch 18/20\n",
      "1375/1375 [==============================] - 4s 3ms/step - loss: 0.2525 - accuracy: 0.9148 - val_loss: 0.2582 - val_accuracy: 0.9141\n",
      "Epoch 19/20\n",
      "1375/1375 [==============================] - 4s 3ms/step - loss: 0.2503 - accuracy: 0.9154 - val_loss: 0.2549 - val_accuracy: 0.9133\n",
      "Epoch 20/20\n",
      "1375/1375 [==============================] - 4s 3ms/step - loss: 0.2484 - accuracy: 0.9159 - val_loss: 0.2534 - val_accuracy: 0.9138\n"
     ]
    }
   ],
   "source": [
    "histA=modeloA.fit(x=X_train_A,y=y_train_A,validation_data=(X_valid_A,y_valid_A),epochs=20)"
   ]
  },
  {
   "cell_type": "code",
   "execution_count": 8,
   "metadata": {},
   "outputs": [
    {
     "name": "stdout",
     "output_type": "stream",
     "text": [
      "250/250 [==============================] - 1s 2ms/step - loss: 0.2728 - accuracy: 0.9049\n"
     ]
    },
    {
     "data": {
      "text/plain": [
       "[0.2728492021560669, 0.9048749804496765]"
      ]
     },
     "execution_count": 8,
     "metadata": {},
     "output_type": "execute_result"
    }
   ],
   "source": [
    "modeloA.evaluate(X_test_A,y_test_A)"
   ]
  },
  {
   "cell_type": "code",
   "execution_count": 9,
   "metadata": {},
   "outputs": [],
   "source": [
    "modeloB=keras.models.Sequential([keras.layers.Flatten(input_shape=[28,28]),\n",
    "                                keras.layers.Dense(200,activation='selu',kernel_initializer=\"lecun_normal\"),\n",
    "                                keras.layers.Dense(100,activation='selu',kernel_initializer=\"lecun_normal\"),\n",
    "                                keras.layers.Dense(50,activation='selu',kernel_initializer=\"lecun_normal\"),\n",
    "                                keras.layers.Dense(1,activation='sigmoid')])"
   ]
  },
  {
   "cell_type": "code",
   "execution_count": 10,
   "metadata": {},
   "outputs": [],
   "source": [
    "modeloB.compile(loss='binary_crossentropy',optimizer=keras.optimizers.SGD(1e-3),metrics=['accuracy'])"
   ]
  },
  {
   "cell_type": "code",
   "execution_count": 11,
   "metadata": {},
   "outputs": [
    {
     "name": "stdout",
     "output_type": "stream",
     "text": [
      "Epoch 1/20\n",
      "7/7 [==============================] - 0s 36ms/step - loss: 0.8671 - accuracy: 0.3000 - val_loss: 0.7024 - val_accuracy: 0.5325\n",
      "Epoch 2/20\n",
      "7/7 [==============================] - 0s 11ms/step - loss: 0.6531 - accuracy: 0.5950 - val_loss: 0.5893 - val_accuracy: 0.7110\n",
      "Epoch 3/20\n",
      "7/7 [==============================] - 0s 14ms/step - loss: 0.5510 - accuracy: 0.7400 - val_loss: 0.5123 - val_accuracy: 0.8022\n",
      "Epoch 4/20\n",
      "7/7 [==============================] - 0s 17ms/step - loss: 0.4773 - accuracy: 0.8450 - val_loss: 0.4530 - val_accuracy: 0.8580\n",
      "Epoch 5/20\n",
      "7/7 [==============================] - 0s 13ms/step - loss: 0.4201 - accuracy: 0.9100 - val_loss: 0.4094 - val_accuracy: 0.8854\n",
      "Epoch 6/20\n",
      "7/7 [==============================] - 0s 12ms/step - loss: 0.3771 - accuracy: 0.9400 - val_loss: 0.3703 - val_accuracy: 0.9351\n",
      "Epoch 7/20\n",
      "7/7 [==============================] - 0s 13ms/step - loss: 0.3399 - accuracy: 0.9550 - val_loss: 0.3395 - val_accuracy: 0.9452\n",
      "Epoch 8/20\n",
      "7/7 [==============================] - 0s 15ms/step - loss: 0.3095 - accuracy: 0.9650 - val_loss: 0.3133 - val_accuracy: 0.9604\n",
      "Epoch 9/20\n",
      "7/7 [==============================] - 0s 11ms/step - loss: 0.2842 - accuracy: 0.9750 - val_loss: 0.2921 - val_accuracy: 0.9635\n",
      "Epoch 10/20\n",
      "7/7 [==============================] - 0s 10ms/step - loss: 0.2632 - accuracy: 0.9800 - val_loss: 0.2738 - val_accuracy: 0.9655\n",
      "Epoch 11/20\n",
      "7/7 [==============================] - 0s 11ms/step - loss: 0.2453 - accuracy: 0.9850 - val_loss: 0.2580 - val_accuracy: 0.9686\n",
      "Epoch 12/20\n",
      "7/7 [==============================] - 0s 12ms/step - loss: 0.2296 - accuracy: 0.9850 - val_loss: 0.2435 - val_accuracy: 0.9736\n",
      "Epoch 13/20\n",
      "7/7 [==============================] - 0s 13ms/step - loss: 0.2156 - accuracy: 0.9850 - val_loss: 0.2306 - val_accuracy: 0.9746\n",
      "Epoch 14/20\n",
      "7/7 [==============================] - 0s 14ms/step - loss: 0.2033 - accuracy: 0.9900 - val_loss: 0.2190 - val_accuracy: 0.9767\n",
      "Epoch 15/20\n",
      "7/7 [==============================] - 0s 11ms/step - loss: 0.1920 - accuracy: 0.9900 - val_loss: 0.2088 - val_accuracy: 0.9767\n",
      "Epoch 16/20\n",
      "7/7 [==============================] - 0s 12ms/step - loss: 0.1821 - accuracy: 0.9900 - val_loss: 0.2000 - val_accuracy: 0.9757\n",
      "Epoch 17/20\n",
      "7/7 [==============================] - 0s 11ms/step - loss: 0.1735 - accuracy: 0.9950 - val_loss: 0.1920 - val_accuracy: 0.9777\n",
      "Epoch 18/20\n",
      "7/7 [==============================] - 0s 12ms/step - loss: 0.1656 - accuracy: 0.9950 - val_loss: 0.1850 - val_accuracy: 0.9777\n",
      "Epoch 19/20\n",
      "7/7 [==============================] - 0s 12ms/step - loss: 0.1583 - accuracy: 0.9950 - val_loss: 0.1776 - val_accuracy: 0.9797\n",
      "Epoch 20/20\n",
      "7/7 [==============================] - 0s 11ms/step - loss: 0.1514 - accuracy: 0.9950 - val_loss: 0.1714 - val_accuracy: 0.9807\n"
     ]
    }
   ],
   "source": [
    "histB=modeloB.fit(x=X_train_B,y=y_train_B,validation_data=(X_valid_B,y_valid_B),epochs=20)"
   ]
  },
  {
   "cell_type": "code",
   "execution_count": 12,
   "metadata": {},
   "outputs": [
    {
     "name": "stdout",
     "output_type": "stream",
     "text": [
      "63/63 [==============================] - 0s 2ms/step - loss: 0.1733 - accuracy: 0.9815\n"
     ]
    },
    {
     "data": {
      "text/plain": [
       "[0.173285573720932, 0.9815000295639038]"
      ]
     },
     "execution_count": 12,
     "metadata": {},
     "output_type": "execute_result"
    }
   ],
   "source": [
    "modeloB.evaluate(X_test_B,y_test_B)"
   ]
  },
  {
   "cell_type": "code",
   "execution_count": 13,
   "metadata": {},
   "outputs": [],
   "source": [
    "modeloA.save(\"Modeloa.h5\")"
   ]
  },
  {
   "cell_type": "code",
   "execution_count": 25,
   "metadata": {},
   "outputs": [],
   "source": [
    "model_A=keras.models.load_model('Modeloa.h5')"
   ]
  },
  {
   "cell_type": "code",
   "execution_count": 26,
   "metadata": {},
   "outputs": [],
   "source": [
    "model_a=keras.models.clone_model(model_A)\n"
   ]
  },
  {
   "cell_type": "code",
   "execution_count": 27,
   "metadata": {},
   "outputs": [],
   "source": [
    "model_a.set_weights(model_A.get_weights())"
   ]
  },
  {
   "cell_type": "code",
   "execution_count": 28,
   "metadata": {},
   "outputs": [],
   "source": [
    "modelo_b=keras.models.Sequential(model_a.layers[:-1])"
   ]
  },
  {
   "cell_type": "code",
   "execution_count": 29,
   "metadata": {},
   "outputs": [],
   "source": [
    "modelo_b.add(keras.layers.Dense(1,activation='sigmoid'))"
   ]
  },
  {
   "cell_type": "code",
   "execution_count": 30,
   "metadata": {},
   "outputs": [],
   "source": [
    "for layer in modelo_b.layers[:-1]:\n",
    "    layer.trainable=False"
   ]
  },
  {
   "cell_type": "code",
   "execution_count": 31,
   "metadata": {},
   "outputs": [],
   "source": [
    "modelo_b.compile(loss='binary_crossentropy',optimizer=keras.optimizers.SGD(1e-3),metrics=['accuracy'])"
   ]
  },
  {
   "cell_type": "code",
   "execution_count": 32,
   "metadata": {},
   "outputs": [
    {
     "name": "stdout",
     "output_type": "stream",
     "text": [
      "Epoch 1/4\n",
      "7/7 [==============================] - 0s 33ms/step - loss: 0.6243 - accuracy: 0.5550 - val_loss: 0.6346 - val_accuracy: 0.5558\n",
      "Epoch 2/4\n",
      "7/7 [==============================] - 0s 11ms/step - loss: 0.5937 - accuracy: 0.6250 - val_loss: 0.6054 - val_accuracy: 0.5923\n",
      "Epoch 3/4\n",
      "7/7 [==============================] - 0s 11ms/step - loss: 0.5650 - accuracy: 0.6600 - val_loss: 0.5803 - val_accuracy: 0.6258\n",
      "Epoch 4/4\n",
      "7/7 [==============================] - 0s 10ms/step - loss: 0.5403 - accuracy: 0.6650 - val_loss: 0.5566 - val_accuracy: 0.6572\n"
     ]
    }
   ],
   "source": [
    "historyb = modelo_b.fit(X_train_B, y_train_B, epochs=4,validation_data=(X_valid_B, y_valid_B))"
   ]
  },
  {
   "cell_type": "code",
   "execution_count": 33,
   "metadata": {},
   "outputs": [],
   "source": [
    "for layer in modelo_b.layers[:-1]:\n",
    "    layer.trainable=True"
   ]
  },
  {
   "cell_type": "code",
   "execution_count": 34,
   "metadata": {},
   "outputs": [],
   "source": [
    "modelo_b.compile(loss='binary_crossentropy',optimizer=keras.optimizers.SGD(1e-3),metrics=['accuracy'])"
   ]
  },
  {
   "cell_type": "code",
   "execution_count": 35,
   "metadata": {},
   "outputs": [
    {
     "name": "stdout",
     "output_type": "stream",
     "text": [
      "Epoch 1/16\n",
      "7/7 [==============================] - 0s 37ms/step - loss: 0.4891 - accuracy: 0.7500 - val_loss: 0.4671 - val_accuracy: 0.8002\n",
      "Epoch 2/16\n",
      "7/7 [==============================] - 0s 11ms/step - loss: 0.4086 - accuracy: 0.8550 - val_loss: 0.3992 - val_accuracy: 0.8874\n",
      "Epoch 3/16\n",
      "7/7 [==============================] - 0s 11ms/step - loss: 0.3472 - accuracy: 0.9350 - val_loss: 0.3446 - val_accuracy: 0.9361\n",
      "Epoch 4/16\n",
      "7/7 [==============================] - 0s 11ms/step - loss: 0.2982 - accuracy: 0.9800 - val_loss: 0.3046 - val_accuracy: 0.9523\n",
      "Epoch 5/16\n",
      "7/7 [==============================] - 0s 12ms/step - loss: 0.2620 - accuracy: 0.9900 - val_loss: 0.2719 - val_accuracy: 0.9706\n",
      "Epoch 6/16\n",
      "7/7 [==============================] - 0s 13ms/step - loss: 0.2324 - accuracy: 0.9950 - val_loss: 0.2462 - val_accuracy: 0.9767\n",
      "Epoch 7/16\n",
      "7/7 [==============================] - 0s 11ms/step - loss: 0.2091 - accuracy: 0.9950 - val_loss: 0.2249 - val_accuracy: 0.9807\n",
      "Epoch 8/16\n",
      "7/7 [==============================] - 0s 12ms/step - loss: 0.1898 - accuracy: 0.9950 - val_loss: 0.2075 - val_accuracy: 0.9817\n",
      "Epoch 9/16\n",
      "7/7 [==============================] - 0s 10ms/step - loss: 0.1742 - accuracy: 0.9900 - val_loss: 0.1931 - val_accuracy: 0.9828\n",
      "Epoch 10/16\n",
      "7/7 [==============================] - 0s 12ms/step - loss: 0.1611 - accuracy: 0.9950 - val_loss: 0.1805 - val_accuracy: 0.9858\n",
      "Epoch 11/16\n",
      "7/7 [==============================] - 0s 10ms/step - loss: 0.1496 - accuracy: 0.9900 - val_loss: 0.1691 - val_accuracy: 0.9858\n",
      "Epoch 12/16\n",
      "7/7 [==============================] - 0s 15ms/step - loss: 0.1393 - accuracy: 0.9900 - val_loss: 0.1596 - val_accuracy: 0.9868\n",
      "Epoch 13/16\n",
      "7/7 [==============================] - 0s 14ms/step - loss: 0.1307 - accuracy: 0.9900 - val_loss: 0.1512 - val_accuracy: 0.9868\n",
      "Epoch 14/16\n",
      "7/7 [==============================] - 0s 12ms/step - loss: 0.1232 - accuracy: 0.9950 - val_loss: 0.1438 - val_accuracy: 0.9888\n",
      "Epoch 15/16\n",
      "7/7 [==============================] - 0s 10ms/step - loss: 0.1163 - accuracy: 0.9950 - val_loss: 0.1372 - val_accuracy: 0.9888\n",
      "Epoch 16/16\n",
      "7/7 [==============================] - 0s 12ms/step - loss: 0.1103 - accuracy: 0.9950 - val_loss: 0.1313 - val_accuracy: 0.9888\n"
     ]
    }
   ],
   "source": [
    "historyb = modelo_b.fit(X_train_B, y_train_B, epochs=16,validation_data=(X_valid_B, y_valid_B))"
   ]
  },
  {
   "cell_type": "code",
   "execution_count": 36,
   "metadata": {},
   "outputs": [
    {
     "name": "stdout",
     "output_type": "stream",
     "text": [
      "63/63 [==============================] - 0s 2ms/step - loss: 0.1247 - accuracy: 0.9945\n"
     ]
    },
    {
     "data": {
      "text/plain": [
       "[0.12468035519123077, 0.9944999814033508]"
      ]
     },
     "execution_count": 36,
     "metadata": {},
     "output_type": "execute_result"
    }
   ],
   "source": [
    "modelo_b.evaluate(X_test_B,y_test_B)"
   ]
  },
  {
   "cell_type": "code",
   "execution_count": null,
   "metadata": {},
   "outputs": [],
   "source": []
  }
 ],
 "metadata": {
  "kernelspec": {
   "display_name": "Python 3",
   "language": "python",
   "name": "python3"
  },
  "language_info": {
   "codemirror_mode": {
    "name": "ipython",
    "version": 3
   },
   "file_extension": ".py",
   "mimetype": "text/x-python",
   "name": "python",
   "nbconvert_exporter": "python",
   "pygments_lexer": "ipython3",
   "version": "3.8.5"
  }
 },
 "nbformat": 4,
 "nbformat_minor": 4
}
